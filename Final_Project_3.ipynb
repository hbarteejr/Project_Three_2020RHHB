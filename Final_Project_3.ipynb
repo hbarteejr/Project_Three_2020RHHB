{
 "cells": [
  {
   "cell_type": "code",
   "execution_count": null,
   "metadata": {},
   "outputs": [],
   "source": [
    "import numpy as np\n",
    "import pandas as pd\n",
    "import fancyimpute\n",
    "from sklearn.preprocessing import LabelEncoder\n",
    "from sklearn.preprocessing import OneHotEncoder\n",
    "from sklearn.linear_model import LogisticRegressionCV\n",
    "from sklearn.cluster import KMeans\n",
    "from sklearn.svm import SVC\n",
    "from sklearn.ensemble import RandomForestClassifier\n",
    "from sklearn.model_selection import GridSearchCV\n",
    "import xgboost as xgb"
   ]
  },
  {
   "cell_type": "code",
   "execution_count": null,
   "metadata": {},
   "outputs": [],
   "source": [
    "# Examine head of data\n",
    "df = pd.read_csv(\"Final_P_3.csv\")\n",
    "df.head(100)"
   ]
  },
  {
   "cell_type": "code",
   "execution_count": null,
   "metadata": {},
   "outputs": [],
   "source": [
    "df.groupby(\"Position\").size()"
   ]
  },
  {
   "cell_type": "code",
   "execution_count": null,
   "metadata": {},
   "outputs": [],
   "source": [
    "#Let's use a simple logistic regression model based on Height, Weight, 40 Yard Dash, Vertical, School and Conference.\n",
    "s = df[(df.Position==\"QB\") | (df.Position==\"WR\")]\n",
    "s = s[[\"Position\", \"3Cone\",\"Height in Feet\", \"Weight In Pounds\", \"40 Yard Dash\", \"Vertical\", \"Broad Jump\", \"Shuttle\"]]\n",
    "s.head()\n",
    "s_predict = LogisticRegressionCV()\n",
    "s_predict.fit(s.drop(\"Position\", 1), s.Position)"
   ]
  },
  {
   "cell_type": "code",
   "execution_count": null,
   "metadata": {},
   "outputs": [],
   "source": [
    "# All of our \"hybrid\" positions have been dealt with. Let's now examine preliminary trends.\n",
    "round_info = pd.crosstab(index=df[\"Position\"], columns=df[\"Round\"], margins=True) \n",
    "round_info / round_info.loc[\"All\"]"
   ]
  },
  {
   "cell_type": "code",
   "execution_count": null,
   "metadata": {},
   "outputs": [],
   "source": [
    "round_info = pd.crosstab(index=df[\"Position\"], columns=df[\"Round\"], margins=True) \n",
    "round_info.div(round_info[\"All\"], axis=0)"
   ]
  },
  {
   "cell_type": "code",
   "execution_count": null,
   "metadata": {},
   "outputs": [],
   "source": [
    "XGB = xgb.XGBClassifier(colsample_bytree=0.7,\n",
    " eta= 0.001,\n",
    " eval_metric= 'mae',\n",
    " max_depth= 6,\n",
    " min_child_weight= 15,\n",
    " objective= 'binary:logistic',\n",
    " subsample= 0.7)"
   ]
  },
  {
   "cell_type": "code",
   "execution_count": null,
   "metadata": {},
   "outputs": [],
   "source": [
    "XGB.fit(train_X, train_y)"
   ]
  },
  {
   "cell_type": "code",
   "execution_count": null,
   "metadata": {},
   "outputs": [],
   "source": [
    "clf = RandomForestClassifier(n_estimators=1000)\n",
    "clf.fit(train_X, train_y)"
   ]
  }
 ],
 "metadata": {
  "kernelspec": {
   "display_name": "Python 3",
   "language": "python",
   "name": "python3"
  },
  "language_info": {
   "codemirror_mode": {
    "name": "ipython",
    "version": 3
   },
   "file_extension": ".py",
   "mimetype": "text/x-python",
   "name": "python",
   "nbconvert_exporter": "python",
   "pygments_lexer": "ipython3",
   "version": "3.7.4"
  }
 },
 "nbformat": 4,
 "nbformat_minor": 2
}
